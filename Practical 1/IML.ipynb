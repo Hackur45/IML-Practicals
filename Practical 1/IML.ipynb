{
 "cells": [
  {
   "cell_type": "markdown",
   "id": "9e3af751",
   "metadata": {},
   "source": [
    "### Name : Mandar Gurjar\n",
    "### Roll No : IT1 - 35\n",
    "### Practical : 1\n",
    "### Aim : Predicting the placement according to cgpa using Linear Regression"
   ]
  },
  {
   "cell_type": "code",
   "execution_count": 5,
   "id": "af03ad0e",
   "metadata": {},
   "outputs": [
    {
     "name": "stdout",
     "output_type": "stream",
     "text": [
      "   student_cgpa  student_package_pa  year_of_placement\n",
      "0          7.50                7.07               2019\n",
      "1          9.80               14.92               2022\n",
      "2          8.93               22.20               2018\n",
      "3          8.39               19.11               2022\n",
      "4          6.62               20.74               2019\n"
     ]
    }
   ],
   "source": [
    "##Generating random data of fields cgpa package_pa and year_of_placement\n",
    "\n",
    "import numpy as np\n",
    "import pandas as pd\n",
    "\n",
    "# Set random seed for reproducibility\n",
    "np.random.seed(42)\n",
    "\n",
    "# Generate 1000 rows of data\n",
    "n = 1000\n",
    "\n",
    "# Generate data for the three attributes\n",
    "student_cgpa = np.round(np.random.uniform(6.0, 10.0, n), 2)  # CGPA between 6.0 and 10.0\n",
    "student_package_pa = np.round(np.random.uniform(3.0, 25.0, n), 2)  # Package in LPA between 3.0 and 25.0\n",
    "year_of_placement = np.random.choice([2016,2017,2018,2019, 2020, 2021, 2022, 2023], n)  # Random years between 2016 and 2023\n",
    "\n",
    "# Create a DataFrame\n",
    "data = pd.DataFrame({\n",
    "    'student_cgpa': student_cgpa,\n",
    "    'student_package_pa': student_package_pa,\n",
    "    'year_of_placement': year_of_placement\n",
    "})\n",
    "\n",
    "# Save the DataFrame to a CSV file\n",
    "data.to_csv('student_data.csv', index=False)\n",
    "\n",
    "# Display the first few rows of the generated data\n",
    "print(data.head())\n"
   ]
  },
  {
   "cell_type": "code",
   "execution_count": 14,
   "id": "93bb8561",
   "metadata": {},
   "outputs": [
    {
     "name": "stdout",
     "output_type": "stream",
     "text": [
      "Mean Squared Error: 41.64\n",
      "Enter the CGPA (e.g., 8.5): 10\n",
      "Enter the year of placement (e.g., 2023): 2026\n",
      "Predicted package for CGPA 10.0 and year 2026: 14.96 LPA\n"
     ]
    }
   ],
   "source": [
    "import pandas as pd\n",
    "from sklearn.model_selection import train_test_split\n",
    "from sklearn.linear_model import LinearRegression\n",
    "from sklearn.metrics import mean_squared_error\n",
    "\n",
    "# Load the data from the CSV file\n",
    "data = pd.read_csv('student_data.csv')\n",
    "\n",
    "# Features and target variable\n",
    "X = data[['student_cgpa', 'year_of_placement']]\n",
    "y = data['student_package_pa']\n",
    "\n",
    "# Split the data into training and testing sets\n",
    "X_train, X_test, y_train, y_test = train_test_split(X, y, test_size=0.2, random_state=42)\n",
    "\n",
    "# Create and train the model\n",
    "model = LinearRegression()\n",
    "model.fit(X_train, y_train)\n",
    "\n",
    "# Make predictions\n",
    "y_pred = model.predict(X_test)\n",
    "\n",
    "# Evaluate the model\n",
    "mse = mean_squared_error(y_test, y_pred)\n",
    "print(f'Mean Squared Error: {mse:.2f}')\n",
    "\n",
    "# Function to predict package based on CGPA and year of placement\n",
    "def predict_package(cgpa, year):\n",
    "    # Create a DataFrame with the same column names as used for training\n",
    "    input_df = pd.DataFrame([[cgpa, year]], columns=['student_cgpa', 'year_of_placement'])\n",
    "    return model.predict(input_df)[0]\n",
    "\n",
    "# Get input from user\n",
    "try:\n",
    "    cgpa_input = float(input(\"Enter the CGPA (e.g., 8.5): \"))\n",
    "    year_input = int(input(\"Enter the year of placement (e.g., 2023): \"))\n",
    "    \n",
    "    # Predict the package\n",
    "    predicted_package = predict_package(cgpa_input, year_input)\n",
    "    print(f'Predicted package for CGPA {cgpa_input} and year {year_input}: {predicted_package:.2f} LPA')\n",
    "except ValueError:\n",
    "    print(\"Invalid input. Please enter numeric values for CGPA and year.\")\n"
   ]
  },
  {
   "cell_type": "markdown",
   "id": "2ac0ddbc",
   "metadata": {},
   "source": [
    "# Conclusion\n",
    "\n",
    "In this practical, we implemented a linear regression model to predict the package (in LPA) a student might receive based on their CGPA and year of placement. Below, I summarize the key steps and findings from our analysis.\n",
    "\n",
    "## Steps Performed\n",
    "\n",
    "1. **Data Generation**:\n",
    "   - We generated a synthetic dataset with 1000 rows. The dataset included three features:\n",
    "     - `student_cgpa`: CGPA of the student (ranging from 6.0 to 10.0).\n",
    "     - `student_package_pa`: Package in LPA that the student might receive (ranging from 3.0 to 25.0).\n",
    "     - `year_of_placement`: The year in which the student was placed (ranging from 2016 to 2023).\n",
    "   - The generated data was saved to a CSV file named `student_data.csv`.\n",
    "\n",
    "2. **Data Loading and Preparation**:\n",
    "   - We loaded the dataset from the CSV file using pandas.\n",
    "   - The features (`student_cgpa` and `year_of_placement`) and the target variable (`student_package_pa`) were defined.\n",
    "   - The data was split into training and testing sets to evaluate the model's performance.\n",
    "\n",
    "3. **Model Training**:\n",
    "   - A linear regression model was trained using the training data.\n",
    "   - We used the `LinearRegression` class from `scikit-learn` to fit the model on the training data.\n",
    "\n",
    "4. **Model Evaluation**:\n",
    "   - The model's performance was evaluated using the Mean Squared Error (MSE) on the test data.\n",
    "   - The MSE value provided an indication of how well the model performed on unseen data.\n",
    "\n",
    "5. **Prediction**:\n",
    "   - We implemented a function to predict the package based on user input for CGPA and year of placement.\n",
    "   - The function uses the trained model to estimate the package and display the result.\n",
    "\n",
    "## Findings\n",
    "\n",
    "- **Model Performance**: The Mean Squared Error (MSE) computed on the test data provides an understanding of the prediction accuracy. A lower MSE indicates better performance of the model.\n",
    "\n",
    "- **Predictive Capability**: The linear regression model allows us to estimate the package based on CGPA and the year of placement. By providing input values, users can obtain predictions that offer insights into potential packages a student might receive.\n",
    "\n",
    "## Conclusion\n",
    "\n",
    "The practical demonstrated how linear regression can be effectively used to model and predict continuous variables based on input features. By generating synthetic data and applying linear regression, we were able to:\n",
    "- Create a dataset that simulates real-world scenarios.\n",
    "- Train a regression model to understand the relationship between CGPA, year of placement, and package.\n",
    "- Evaluate and use the model to make predictions based on user inputs.\n",
    "\n",
    "Overall, the experiment illustrates the application of linear regression in predicting outcomes and how it can be applied to various real-world problems.\n"
   ]
  },
  {
   "cell_type": "code",
   "execution_count": null,
   "id": "e60d57f5",
   "metadata": {},
   "outputs": [],
   "source": []
  }
 ],
 "metadata": {
  "kernelspec": {
   "display_name": "Python 3 (ipykernel)",
   "language": "python",
   "name": "python3"
  },
  "language_info": {
   "codemirror_mode": {
    "name": "ipython",
    "version": 3
   },
   "file_extension": ".py",
   "mimetype": "text/x-python",
   "name": "python",
   "nbconvert_exporter": "python",
   "pygments_lexer": "ipython3",
   "version": "3.11.5"
  }
 },
 "nbformat": 4,
 "nbformat_minor": 5
}
